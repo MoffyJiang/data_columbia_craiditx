{
 "cells": [
  {
   "cell_type": "code",
   "execution_count": 159,
   "metadata": {
    "ExecuteTime": {
     "end_time": "2019-10-10T15:25:35.386010Z",
     "start_time": "2019-10-10T15:25:35.380375Z"
    }
   },
   "outputs": [],
   "source": [
    "from datetime import datetime\n",
    "import numpy as np\n",
    "import pandas as pd\n",
    "from tqdm import tqdm\n",
    "import json\n",
    "from sklearn.preprocessing import LabelEncoder"
   ]
  },
  {
   "cell_type": "markdown",
   "metadata": {},
   "source": [
    "## data loading for sequential embedding"
   ]
  },
  {
   "cell_type": "code",
   "execution_count": 2,
   "metadata": {
    "ExecuteTime": {
     "end_time": "2019-10-10T12:19:58.074089Z",
     "start_time": "2019-10-10T12:19:46.171214Z"
    }
   },
   "outputs": [
    {
     "name": "stdout",
     "output_type": "stream",
     "text": [
      "CPU times: user 10.3 s, sys: 1.55 s, total: 11.9 s\n",
      "Wall time: 11.9 s\n"
     ]
    }
   ],
   "source": [
    "%%time\n",
    "sequential_data = []\n",
    "\n",
    "with open('../data/raw/dataForSequentialEmbedding/data_train.json', 'r') as f:\n",
    "    for line in f:\n",
    "        sequential_data.append(json.loads(line))"
   ]
  },
  {
   "cell_type": "markdown",
   "metadata": {},
   "source": [
    "- the unique key for each sample is the combination of userid and application time\n",
    "    - applicants might apply more than one time (same userid, differenty application time)"
   ]
  },
  {
   "cell_type": "code",
   "execution_count": 26,
   "metadata": {
    "ExecuteTime": {
     "end_time": "2019-10-10T12:45:49.630001Z",
     "start_time": "2019-10-10T12:45:47.083769Z"
    }
   },
   "outputs": [
    {
     "name": "stdout",
     "output_type": "stream",
     "text": [
      "CPU times: user 2.51 s, sys: 30.3 ms, total: 2.54 s\n",
      "Wall time: 2.54 s\n"
     ]
    }
   ],
   "source": [
    "%%time\n",
    "sequential_driver = {} \n",
    "\n",
    "sequential_behavior = {}\n",
    "\n",
    "for item in sequential_data:\n",
    "    \n",
    "    user_id = item[0]\n",
    "    \n",
    "    application_time = int(item[1]['order_info']['order_time'])\n",
    "    \n",
    "    sequential_driver.update({f\"{user_id}|{application_time}\" : item[1]['order_info']})\n",
    "    \n",
    "    sub_data = [x for x in item[1]['data'] if x['petime']<=application_time-100]\n",
    "    # we only keep data occurs before application time. \"-100\" is not neccessary for offline data cleaning.\n",
    "    ## but sometimes we use this trick for online calculation to avoid network slowdown\n",
    "    \n",
    "    sequential_behavior.update({f\"{user_id}|{application_time}\":sub_data})"
   ]
  },
  {
   "cell_type": "markdown",
   "metadata": {},
   "source": [
    "### driver understanding"
   ]
  },
  {
   "cell_type": "code",
   "execution_count": 28,
   "metadata": {
    "ExecuteTime": {
     "end_time": "2019-10-10T12:46:46.744416Z",
     "start_time": "2019-10-10T12:46:36.223761Z"
    }
   },
   "outputs": [],
   "source": [
    "driver = pd.DataFrame(sequential_driver).T.reset_index()\n",
    "driver['user_id'] = driver['index'].apply(lambda x : x.split('|')[0])\n",
    "driver['application_time'] = driver['index'].apply(lambda x : x.split('|')[1])"
   ]
  },
  {
   "cell_type": "code",
   "execution_count": 30,
   "metadata": {
    "ExecuteTime": {
     "end_time": "2019-10-10T12:47:05.400131Z",
     "start_time": "2019-10-10T12:47:05.383282Z"
    },
    "scrolled": true
   },
   "outputs": [
    {
     "data": {
      "text/plain": [
       "0.0    121429\n",
       "1.0     78571\n",
       "Name: new_client, dtype: int64"
      ]
     },
     "execution_count": 30,
     "metadata": {},
     "output_type": "execute_result"
    }
   ],
   "source": [
    "driver['new_client'].value_counts()\n",
    "\n",
    "# we normally separate new client (0) and old client (1) because they have different data pattern and data density"
   ]
  },
  {
   "cell_type": "code",
   "execution_count": 34,
   "metadata": {
    "ExecuteTime": {
     "end_time": "2019-10-10T12:48:52.429294Z",
     "start_time": "2019-10-10T12:48:51.623808Z"
    }
   },
   "outputs": [],
   "source": [
    "# converting unix time to real time\n",
    "\n",
    "driver['application_date'] = pd.to_datetime(driver['order_time'],unit='ms')"
   ]
  },
  {
   "cell_type": "code",
   "execution_count": 35,
   "metadata": {
    "ExecuteTime": {
     "end_time": "2019-10-10T12:48:53.225299Z",
     "start_time": "2019-10-10T12:48:53.202937Z"
    }
   },
   "outputs": [
    {
     "data": {
      "text/html": [
       "<div>\n",
       "<style scoped>\n",
       "    .dataframe tbody tr th:only-of-type {\n",
       "        vertical-align: middle;\n",
       "    }\n",
       "\n",
       "    .dataframe tbody tr th {\n",
       "        vertical-align: top;\n",
       "    }\n",
       "\n",
       "    .dataframe thead th {\n",
       "        text-align: right;\n",
       "    }\n",
       "</style>\n",
       "<table border=\"1\" class=\"dataframe\">\n",
       "  <thead>\n",
       "    <tr style=\"text-align: right;\">\n",
       "      <th></th>\n",
       "      <th>index</th>\n",
       "      <th>overdue</th>\n",
       "      <th>new_client</th>\n",
       "      <th>order_time</th>\n",
       "      <th>label</th>\n",
       "      <th>user_id</th>\n",
       "      <th>application_time</th>\n",
       "      <th>application_date</th>\n",
       "    </tr>\n",
       "  </thead>\n",
       "  <tbody>\n",
       "    <tr>\n",
       "      <th>0</th>\n",
       "      <td>56f889ee11df4a72955147cb2f29a638|1509322980000</td>\n",
       "      <td>0.0</td>\n",
       "      <td>0.0</td>\n",
       "      <td>1.509323e+12</td>\n",
       "      <td>0.0</td>\n",
       "      <td>56f889ee11df4a72955147cb2f29a638</td>\n",
       "      <td>1509322980000</td>\n",
       "      <td>2017-10-30 00:23:00</td>\n",
       "    </tr>\n",
       "    <tr>\n",
       "      <th>1</th>\n",
       "      <td>82ba63c78d5543b7b2fd1b44412ea954|1507609140000</td>\n",
       "      <td>1.0</td>\n",
       "      <td>0.0</td>\n",
       "      <td>1.507609e+12</td>\n",
       "      <td>0.0</td>\n",
       "      <td>82ba63c78d5543b7b2fd1b44412ea954</td>\n",
       "      <td>1507609140000</td>\n",
       "      <td>2017-10-10 04:19:00</td>\n",
       "    </tr>\n",
       "    <tr>\n",
       "      <th>2</th>\n",
       "      <td>d84540c274cc43b894997f633fcf47b9|1509373080000</td>\n",
       "      <td>1.0</td>\n",
       "      <td>0.0</td>\n",
       "      <td>1.509373e+12</td>\n",
       "      <td>0.0</td>\n",
       "      <td>d84540c274cc43b894997f633fcf47b9</td>\n",
       "      <td>1509373080000</td>\n",
       "      <td>2017-10-30 14:18:00</td>\n",
       "    </tr>\n",
       "    <tr>\n",
       "      <th>3</th>\n",
       "      <td>b8206ff0ea1f4cf4abda18d0e0145497|1507529520000</td>\n",
       "      <td>0.0</td>\n",
       "      <td>1.0</td>\n",
       "      <td>1.507530e+12</td>\n",
       "      <td>0.0</td>\n",
       "      <td>b8206ff0ea1f4cf4abda18d0e0145497</td>\n",
       "      <td>1507529520000</td>\n",
       "      <td>2017-10-09 06:12:00</td>\n",
       "    </tr>\n",
       "    <tr>\n",
       "      <th>4</th>\n",
       "      <td>6e5f6b151edd4d40b51ca3b75e392f8d|1506805920000</td>\n",
       "      <td>0.0</td>\n",
       "      <td>1.0</td>\n",
       "      <td>1.506806e+12</td>\n",
       "      <td>0.0</td>\n",
       "      <td>6e5f6b151edd4d40b51ca3b75e392f8d</td>\n",
       "      <td>1506805920000</td>\n",
       "      <td>2017-09-30 21:12:00</td>\n",
       "    </tr>\n",
       "  </tbody>\n",
       "</table>\n",
       "</div>"
      ],
      "text/plain": [
       "                                            index  overdue  new_client  \\\n",
       "0  56f889ee11df4a72955147cb2f29a638|1509322980000      0.0         0.0   \n",
       "1  82ba63c78d5543b7b2fd1b44412ea954|1507609140000      1.0         0.0   \n",
       "2  d84540c274cc43b894997f633fcf47b9|1509373080000      1.0         0.0   \n",
       "3  b8206ff0ea1f4cf4abda18d0e0145497|1507529520000      0.0         1.0   \n",
       "4  6e5f6b151edd4d40b51ca3b75e392f8d|1506805920000      0.0         1.0   \n",
       "\n",
       "     order_time  label                           user_id application_time  \\\n",
       "0  1.509323e+12    0.0  56f889ee11df4a72955147cb2f29a638    1509322980000   \n",
       "1  1.507609e+12    0.0  82ba63c78d5543b7b2fd1b44412ea954    1507609140000   \n",
       "2  1.509373e+12    0.0  d84540c274cc43b894997f633fcf47b9    1509373080000   \n",
       "3  1.507530e+12    0.0  b8206ff0ea1f4cf4abda18d0e0145497    1507529520000   \n",
       "4  1.506806e+12    0.0  6e5f6b151edd4d40b51ca3b75e392f8d    1506805920000   \n",
       "\n",
       "     application_date  \n",
       "0 2017-10-30 00:23:00  \n",
       "1 2017-10-10 04:19:00  \n",
       "2 2017-10-30 14:18:00  \n",
       "3 2017-10-09 06:12:00  \n",
       "4 2017-09-30 21:12:00  "
      ]
     },
     "execution_count": 35,
     "metadata": {},
     "output_type": "execute_result"
    }
   ],
   "source": [
    "driver.head()"
   ]
  },
  {
   "cell_type": "code",
   "execution_count": 36,
   "metadata": {
    "ExecuteTime": {
     "end_time": "2019-10-10T12:49:10.669844Z",
     "start_time": "2019-10-10T12:49:10.655832Z"
    }
   },
   "outputs": [
    {
     "data": {
      "text/plain": [
       "0.0    183986\n",
       "1.0     16014\n",
       "Name: label, dtype: int64"
      ]
     },
     "execution_count": 36,
     "metadata": {},
     "output_type": "execute_result"
    }
   ],
   "source": [
    "driver['label'].value_counts()"
   ]
  },
  {
   "cell_type": "code",
   "execution_count": 37,
   "metadata": {
    "ExecuteTime": {
     "end_time": "2019-10-10T12:49:33.086982Z",
     "start_time": "2019-10-10T12:49:33.023459Z"
    }
   },
   "outputs": [
    {
     "data": {
      "text/html": [
       "<div>\n",
       "<style scoped>\n",
       "    .dataframe tbody tr th:only-of-type {\n",
       "        vertical-align: middle;\n",
       "    }\n",
       "\n",
       "    .dataframe tbody tr th {\n",
       "        vertical-align: top;\n",
       "    }\n",
       "\n",
       "    .dataframe thead th {\n",
       "        text-align: right;\n",
       "    }\n",
       "</style>\n",
       "<table border=\"1\" class=\"dataframe\">\n",
       "  <thead>\n",
       "    <tr style=\"text-align: right;\">\n",
       "      <th></th>\n",
       "      <th>count</th>\n",
       "      <th>mean</th>\n",
       "      <th>std</th>\n",
       "      <th>min</th>\n",
       "      <th>25%</th>\n",
       "      <th>50%</th>\n",
       "      <th>75%</th>\n",
       "      <th>max</th>\n",
       "    </tr>\n",
       "    <tr>\n",
       "      <th>label</th>\n",
       "      <th></th>\n",
       "      <th></th>\n",
       "      <th></th>\n",
       "      <th></th>\n",
       "      <th></th>\n",
       "      <th></th>\n",
       "      <th></th>\n",
       "      <th></th>\n",
       "    </tr>\n",
       "  </thead>\n",
       "  <tbody>\n",
       "    <tr>\n",
       "      <th>0.0</th>\n",
       "      <td>183986.0</td>\n",
       "      <td>0.311698</td>\n",
       "      <td>0.753309</td>\n",
       "      <td>0.0</td>\n",
       "      <td>0.0</td>\n",
       "      <td>0.0</td>\n",
       "      <td>0.0</td>\n",
       "      <td>5.0</td>\n",
       "    </tr>\n",
       "    <tr>\n",
       "      <th>1.0</th>\n",
       "      <td>16014.0</td>\n",
       "      <td>21.055264</td>\n",
       "      <td>10.136408</td>\n",
       "      <td>6.0</td>\n",
       "      <td>12.0</td>\n",
       "      <td>20.0</td>\n",
       "      <td>30.0</td>\n",
       "      <td>38.0</td>\n",
       "    </tr>\n",
       "  </tbody>\n",
       "</table>\n",
       "</div>"
      ],
      "text/plain": [
       "          count       mean        std  min   25%   50%   75%   max\n",
       "label                                                             \n",
       "0.0    183986.0   0.311698   0.753309  0.0   0.0   0.0   0.0   5.0\n",
       "1.0     16014.0  21.055264  10.136408  6.0  12.0  20.0  30.0  38.0"
      ]
     },
     "execution_count": 37,
     "metadata": {},
     "output_type": "execute_result"
    }
   ],
   "source": [
    "driver.groupby('label')['overdue'].describe()\n",
    "\n",
    "# we only regard sample with more than 5 overdue days as bad sample (1)"
   ]
  },
  {
   "cell_type": "code",
   "execution_count": 38,
   "metadata": {
    "ExecuteTime": {
     "end_time": "2019-10-10T12:50:25.318587Z",
     "start_time": "2019-10-10T12:50:25.263759Z"
    }
   },
   "outputs": [
    {
     "data": {
      "text/plain": [
       "150644"
      ]
     },
     "execution_count": 38,
     "metadata": {},
     "output_type": "execute_result"
    }
   ],
   "source": [
    "driver['user_id'].nunique()"
   ]
  },
  {
   "cell_type": "markdown",
   "metadata": {},
   "source": [
    "### data understanding"
   ]
  },
  {
   "cell_type": "code",
   "execution_count": 46,
   "metadata": {
    "ExecuteTime": {
     "end_time": "2019-10-10T12:55:18.785870Z",
     "start_time": "2019-10-10T12:55:14.700380Z"
    }
   },
   "outputs": [
    {
     "name": "stdout",
     "output_type": "stream",
     "text": [
      "CPU times: user 3.54 s, sys: 544 ms, total: 4.09 s\n",
      "Wall time: 4.08 s\n"
     ]
    }
   ],
   "source": [
    "%%time\n",
    "# converting data into dataframe \n",
    "## this is not neccessary during modeling phase cause we can use data_generator (presented in data usage)\n",
    "\n",
    "behavior = []\n",
    "\n",
    "for user_keys in sequential_behavior:\n",
    "    \n",
    "    user_id, application_time = user_keys.split(\"|\")\n",
    "    \n",
    "    for item in sequential_behavior[user_keys]:\n",
    "        \n",
    "        subitem = item.copy()\n",
    "        subitem.update({\"user_id\":user_id, \"application_time\":application_time})\n",
    "        behavior.append(subitem)"
   ]
  },
  {
   "cell_type": "code",
   "execution_count": 47,
   "metadata": {
    "ExecuteTime": {
     "end_time": "2019-10-10T12:55:29.775174Z",
     "start_time": "2019-10-10T12:55:21.970255Z"
    }
   },
   "outputs": [],
   "source": [
    "behavior = pd.DataFrame(behavior)"
   ]
  },
  {
   "cell_type": "code",
   "execution_count": 53,
   "metadata": {
    "ExecuteTime": {
     "end_time": "2019-10-10T12:55:54.950042Z",
     "start_time": "2019-10-10T12:55:54.652906Z"
    }
   },
   "outputs": [
    {
     "data": {
      "text/plain": [
       "((5521027, 7), 117708)"
      ]
     },
     "execution_count": 53,
     "metadata": {},
     "output_type": "execute_result"
    }
   ],
   "source": [
    "behavior.shape, behavior.user_id.nunique()"
   ]
  },
  {
   "cell_type": "code",
   "execution_count": 58,
   "metadata": {
    "ExecuteTime": {
     "end_time": "2019-10-10T13:00:41.425231Z",
     "start_time": "2019-10-10T13:00:41.339078Z"
    }
   },
   "outputs": [
    {
     "data": {
      "text/plain": [
       "50084"
      ]
     },
     "execution_count": 58,
     "metadata": {},
     "output_type": "execute_result"
    }
   ],
   "source": [
    "len([x.split('|')[0] for x in sequential_behavior if len(sequential_behavior[x])==0])\n",
    "\n",
    "# there might be several application without any behavior data due to many reasons (which can be ignored)\n",
    "# data inclusion logic for keys with empty data will be presented in data usage"
   ]
  },
  {
   "cell_type": "code",
   "execution_count": 60,
   "metadata": {
    "ExecuteTime": {
     "end_time": "2019-10-10T14:08:02.075670Z",
     "start_time": "2019-10-10T14:07:57.418003Z"
    },
    "scrolled": true
   },
   "outputs": [],
   "source": [
    "behavior = behavior.sort_values(['user_id', 'application_time', 'petime'])"
   ]
  },
  {
   "cell_type": "code",
   "execution_count": 64,
   "metadata": {
    "ExecuteTime": {
     "end_time": "2019-10-10T14:10:58.878085Z",
     "start_time": "2019-10-10T14:10:58.223794Z"
    }
   },
   "outputs": [
    {
     "data": {
      "text/plain": [
       "loan_index         2612879\n",
       "personal_info       626520\n",
       "id_verify           580234\n",
       "contacts_info       452028\n",
       "loan_submission     340359\n",
       "operator            297844\n",
       "bind_debit_card     253188\n",
       "biometric_auto      168364\n",
       "login               161418\n",
       "register             22891\n",
       "biometric_auth        5302\n",
       "Name: pname, dtype: int64"
      ]
     },
     "execution_count": 64,
     "metadata": {},
     "output_type": "execute_result"
    }
   ],
   "source": [
    "behavior['pname'].value_counts()"
   ]
  },
  {
   "cell_type": "markdown",
   "metadata": {
    "ExecuteTime": {
     "end_time": "2019-10-10T14:11:10.818988Z",
     "start_time": "2019-10-10T14:11:10.815397Z"
    }
   },
   "source": [
    "### page view path overview"
   ]
  },
  {
   "cell_type": "code",
   "execution_count": 65,
   "metadata": {
    "ExecuteTime": {
     "end_time": "2019-10-10T14:11:08.636608Z",
     "start_time": "2019-10-10T14:11:07.983681Z"
    }
   },
   "outputs": [],
   "source": [
    "page_name = set(behavior['pname'].value_counts().index)"
   ]
  },
  {
   "cell_type": "code",
   "execution_count": 97,
   "metadata": {
    "ExecuteTime": {
     "end_time": "2019-10-10T14:19:52.693139Z",
     "start_time": "2019-10-10T14:19:52.687699Z"
    }
   },
   "outputs": [],
   "source": [
    "page_trannsition_overview = {\n",
    "    f\"from_{x}\" : {\n",
    "        f\"to_{y}\": 0 for y in page_name\n",
    "    }\n",
    "    for x in page_name\n",
    "}"
   ]
  },
  {
   "cell_type": "code",
   "execution_count": 99,
   "metadata": {
    "ExecuteTime": {
     "end_time": "2019-10-10T14:20:12.284405Z",
     "start_time": "2019-10-10T14:20:09.633473Z"
    }
   },
   "outputs": [
    {
     "name": "stdout",
     "output_type": "stream",
     "text": [
      "CPU times: user 2.64 s, sys: 3.71 ms, total: 2.65 s\n",
      "Wall time: 2.64 s\n"
     ]
    }
   ],
   "source": [
    "%%time\n",
    "for keys in sequential_behavior:\n",
    "    \n",
    "    subdata = sequential_behavior[keys]\n",
    "    subdata.sort(key=lambda x : x['petime'])\n",
    "    \n",
    "    if len(subdata)<2:\n",
    "        pass\n",
    "    \n",
    "    else:\n",
    "\n",
    "        prev_state = subdata[0]['pname']\n",
    "\n",
    "        for item in subdata[1:]:\n",
    "            current_state = item['pname']\n",
    "\n",
    "            page_trannsition_overview[f\"from_{prev_state}\"][f\"to_{current_state}\"] += 1\n",
    "\n",
    "            prev_state = item['pname']"
   ]
  },
  {
   "cell_type": "code",
   "execution_count": 100,
   "metadata": {
    "ExecuteTime": {
     "end_time": "2019-10-10T14:20:13.050354Z",
     "start_time": "2019-10-10T14:20:13.026798Z"
    }
   },
   "outputs": [
    {
     "data": {
      "text/html": [
       "<div>\n",
       "<style scoped>\n",
       "    .dataframe tbody tr th:only-of-type {\n",
       "        vertical-align: middle;\n",
       "    }\n",
       "\n",
       "    .dataframe tbody tr th {\n",
       "        vertical-align: top;\n",
       "    }\n",
       "\n",
       "    .dataframe thead th {\n",
       "        text-align: right;\n",
       "    }\n",
       "</style>\n",
       "<table border=\"1\" class=\"dataframe\">\n",
       "  <thead>\n",
       "    <tr style=\"text-align: right;\">\n",
       "      <th></th>\n",
       "      <th>from_biometric_auth</th>\n",
       "      <th>from_loan_submission</th>\n",
       "      <th>from_contacts_info</th>\n",
       "      <th>from_login</th>\n",
       "      <th>from_bind_debit_card</th>\n",
       "      <th>from_register</th>\n",
       "      <th>from_loan_index</th>\n",
       "      <th>from_id_verify</th>\n",
       "      <th>from_personal_info</th>\n",
       "      <th>from_operator</th>\n",
       "      <th>from_biometric_auto</th>\n",
       "    </tr>\n",
       "  </thead>\n",
       "  <tbody>\n",
       "    <tr>\n",
       "      <th>to_biometric_auth</th>\n",
       "      <td>2366</td>\n",
       "      <td>0</td>\n",
       "      <td>5</td>\n",
       "      <td>41</td>\n",
       "      <td>1</td>\n",
       "      <td>1</td>\n",
       "      <td>139</td>\n",
       "      <td>2514</td>\n",
       "      <td>6</td>\n",
       "      <td>1</td>\n",
       "      <td>0</td>\n",
       "    </tr>\n",
       "    <tr>\n",
       "      <th>to_loan_submission</th>\n",
       "      <td>3</td>\n",
       "      <td>74836</td>\n",
       "      <td>9</td>\n",
       "      <td>87</td>\n",
       "      <td>2304</td>\n",
       "      <td>1</td>\n",
       "      <td>262420</td>\n",
       "      <td>26</td>\n",
       "      <td>11</td>\n",
       "      <td>475</td>\n",
       "      <td>0</td>\n",
       "    </tr>\n",
       "    <tr>\n",
       "      <th>to_contacts_info</th>\n",
       "      <td>118</td>\n",
       "      <td>0</td>\n",
       "      <td>345545</td>\n",
       "      <td>3</td>\n",
       "      <td>3</td>\n",
       "      <td>0</td>\n",
       "      <td>10193</td>\n",
       "      <td>40</td>\n",
       "      <td>96093</td>\n",
       "      <td>17</td>\n",
       "      <td>2</td>\n",
       "    </tr>\n",
       "    <tr>\n",
       "      <th>to_login</th>\n",
       "      <td>7</td>\n",
       "      <td>5533</td>\n",
       "      <td>335</td>\n",
       "      <td>2603</td>\n",
       "      <td>210</td>\n",
       "      <td>54</td>\n",
       "      <td>47000</td>\n",
       "      <td>1385</td>\n",
       "      <td>68</td>\n",
       "      <td>533</td>\n",
       "      <td>310</td>\n",
       "    </tr>\n",
       "    <tr>\n",
       "      <th>to_bind_debit_card</th>\n",
       "      <td>8</td>\n",
       "      <td>3660</td>\n",
       "      <td>14</td>\n",
       "      <td>11</td>\n",
       "      <td>133870</td>\n",
       "      <td>1</td>\n",
       "      <td>114911</td>\n",
       "      <td>7</td>\n",
       "      <td>3</td>\n",
       "      <td>687</td>\n",
       "      <td>0</td>\n",
       "    </tr>\n",
       "    <tr>\n",
       "      <th>to_register</th>\n",
       "      <td>0</td>\n",
       "      <td>0</td>\n",
       "      <td>0</td>\n",
       "      <td>57</td>\n",
       "      <td>1</td>\n",
       "      <td>77</td>\n",
       "      <td>30</td>\n",
       "      <td>0</td>\n",
       "      <td>0</td>\n",
       "      <td>1</td>\n",
       "      <td>0</td>\n",
       "    </tr>\n",
       "    <tr>\n",
       "      <th>to_loan_index</th>\n",
       "      <td>210</td>\n",
       "      <td>236415</td>\n",
       "      <td>16030</td>\n",
       "      <td>155895</td>\n",
       "      <td>115308</td>\n",
       "      <td>22732</td>\n",
       "      <td>1782315</td>\n",
       "      <td>69186</td>\n",
       "      <td>2209</td>\n",
       "      <td>162682</td>\n",
       "      <td>28680</td>\n",
       "    </tr>\n",
       "    <tr>\n",
       "      <th>to_id_verify</th>\n",
       "      <td>119</td>\n",
       "      <td>20</td>\n",
       "      <td>20</td>\n",
       "      <td>404</td>\n",
       "      <td>9</td>\n",
       "      <td>8</td>\n",
       "      <td>169596</td>\n",
       "      <td>408229</td>\n",
       "      <td>15</td>\n",
       "      <td>38</td>\n",
       "      <td>29</td>\n",
       "    </tr>\n",
       "    <tr>\n",
       "      <th>to_personal_info</th>\n",
       "      <td>2459</td>\n",
       "      <td>4</td>\n",
       "      <td>19</td>\n",
       "      <td>34</td>\n",
       "      <td>0</td>\n",
       "      <td>2</td>\n",
       "      <td>2341</td>\n",
       "      <td>1486</td>\n",
       "      <td>527990</td>\n",
       "      <td>3</td>\n",
       "      <td>92001</td>\n",
       "    </tr>\n",
       "    <tr>\n",
       "      <th>to_operator</th>\n",
       "      <td>6</td>\n",
       "      <td>49</td>\n",
       "      <td>89755</td>\n",
       "      <td>94</td>\n",
       "      <td>51</td>\n",
       "      <td>0</td>\n",
       "      <td>76086</td>\n",
       "      <td>11</td>\n",
       "      <td>18</td>\n",
       "      <td>131560</td>\n",
       "      <td>5</td>\n",
       "    </tr>\n",
       "    <tr>\n",
       "      <th>to_biometric_auto</th>\n",
       "      <td>0</td>\n",
       "      <td>0</td>\n",
       "      <td>5</td>\n",
       "      <td>2</td>\n",
       "      <td>0</td>\n",
       "      <td>0</td>\n",
       "      <td>28002</td>\n",
       "      <td>93525</td>\n",
       "      <td>6</td>\n",
       "      <td>11</td>\n",
       "      <td>46804</td>\n",
       "    </tr>\n",
       "  </tbody>\n",
       "</table>\n",
       "</div>"
      ],
      "text/plain": [
       "                    from_biometric_auth  from_loan_submission  \\\n",
       "to_biometric_auth                  2366                     0   \n",
       "to_loan_submission                    3                 74836   \n",
       "to_contacts_info                    118                     0   \n",
       "to_login                              7                  5533   \n",
       "to_bind_debit_card                    8                  3660   \n",
       "to_register                           0                     0   \n",
       "to_loan_index                       210                236415   \n",
       "to_id_verify                        119                    20   \n",
       "to_personal_info                   2459                     4   \n",
       "to_operator                           6                    49   \n",
       "to_biometric_auto                     0                     0   \n",
       "\n",
       "                    from_contacts_info  from_login  from_bind_debit_card  \\\n",
       "to_biometric_auth                    5          41                     1   \n",
       "to_loan_submission                   9          87                  2304   \n",
       "to_contacts_info                345545           3                     3   \n",
       "to_login                           335        2603                   210   \n",
       "to_bind_debit_card                  14          11                133870   \n",
       "to_register                          0          57                     1   \n",
       "to_loan_index                    16030      155895                115308   \n",
       "to_id_verify                        20         404                     9   \n",
       "to_personal_info                    19          34                     0   \n",
       "to_operator                      89755          94                    51   \n",
       "to_biometric_auto                    5           2                     0   \n",
       "\n",
       "                    from_register  from_loan_index  from_id_verify  \\\n",
       "to_biometric_auth               1              139            2514   \n",
       "to_loan_submission              1           262420              26   \n",
       "to_contacts_info                0            10193              40   \n",
       "to_login                       54            47000            1385   \n",
       "to_bind_debit_card              1           114911               7   \n",
       "to_register                    77               30               0   \n",
       "to_loan_index               22732          1782315           69186   \n",
       "to_id_verify                    8           169596          408229   \n",
       "to_personal_info                2             2341            1486   \n",
       "to_operator                     0            76086              11   \n",
       "to_biometric_auto               0            28002           93525   \n",
       "\n",
       "                    from_personal_info  from_operator  from_biometric_auto  \n",
       "to_biometric_auth                    6              1                    0  \n",
       "to_loan_submission                  11            475                    0  \n",
       "to_contacts_info                 96093             17                    2  \n",
       "to_login                            68            533                  310  \n",
       "to_bind_debit_card                   3            687                    0  \n",
       "to_register                          0              1                    0  \n",
       "to_loan_index                     2209         162682                28680  \n",
       "to_id_verify                        15             38                   29  \n",
       "to_personal_info                527990              3                92001  \n",
       "to_operator                         18         131560                    5  \n",
       "to_biometric_auto                    6             11                46804  "
      ]
     },
     "execution_count": 100,
     "metadata": {},
     "output_type": "execute_result"
    }
   ],
   "source": [
    "pd.DataFrame(page_trannsition_overview)"
   ]
  },
  {
   "cell_type": "markdown",
   "metadata": {},
   "source": [
    "## data usage"
   ]
  },
  {
   "cell_type": "code",
   "execution_count": 41,
   "metadata": {
    "ExecuteTime": {
     "end_time": "2019-10-10T12:50:50.352198Z",
     "start_time": "2019-10-10T12:50:50.343112Z"
    }
   },
   "outputs": [
    {
     "data": {
      "text/plain": [
       "LabelEncoder()"
      ]
     },
     "execution_count": 41,
     "metadata": {},
     "output_type": "execute_result"
    }
   ],
   "source": [
    "le = LabelEncoder()\n",
    "le.fit(['bind_credit_card',\n",
    " 'bind_debit_card',\n",
    " 'biometric_auto',\n",
    " 'contacts_info',\n",
    " 'id_verify',\n",
    " 'loan_index',\n",
    " 'loan_submission',\n",
    " 'login',\n",
    " 'operator',\n",
    " 'personal_info',\n",
    " 'register',\n",
    " 'unknown'])"
   ]
  },
  {
   "cell_type": "code",
   "execution_count": 125,
   "metadata": {
    "ExecuteTime": {
     "end_time": "2019-10-10T14:30:28.690983Z",
     "start_time": "2019-10-10T14:30:28.474601Z"
    }
   },
   "outputs": [],
   "source": [
    "## here's the logic for which data should be dropped entirely and which data should be included as missing valued data\n",
    "\n",
    "user_id_with_data = set([x.split(\"|\")[0] for x in sequential_behavior if len(sequential_behavior[x])!=0])\n",
    "\n",
    "user_id_without_data = set([x.split(\"|\")[0] for x in sequential_behavior if len(sequential_behavior[x])==0])\n",
    "\n",
    "user_id_without_data_should_keep = [x for x in user_id_without_data if x in user_id_with_data]\n",
    "\n"
   ]
  },
  {
   "cell_type": "code",
   "execution_count": 126,
   "metadata": {
    "ExecuteTime": {
     "end_time": "2019-10-10T14:30:40.197165Z",
     "start_time": "2019-10-10T14:30:40.174541Z"
    }
   },
   "outputs": [],
   "source": [
    "final_user_id = list(user_id_with_data) + list(set(user_id_without_data_should_keep))"
   ]
  },
  {
   "cell_type": "code",
   "execution_count": 155,
   "metadata": {
    "ExecuteTime": {
     "end_time": "2019-10-10T14:42:54.567448Z",
     "start_time": "2019-10-10T14:42:54.543798Z"
    }
   },
   "outputs": [],
   "source": [
    "a = sequential_behavior[list(sequential_behavior.keys())[0]]"
   ]
  },
  {
   "cell_type": "code",
   "execution_count": 166,
   "metadata": {
    "ExecuteTime": {
     "end_time": "2019-10-10T15:26:22.449962Z",
     "start_time": "2019-10-10T15:26:22.444368Z"
    }
   },
   "outputs": [],
   "source": [
    "pstart = [x['pstime'] for x in a]\n",
    "    \n",
    "pend = ([x['petime'] for x in a])"
   ]
  },
  {
   "cell_type": "code",
   "execution_count": 177,
   "metadata": {
    "ExecuteTime": {
     "end_time": "2019-10-10T15:29:01.838214Z",
     "start_time": "2019-10-10T15:29:01.829748Z"
    },
    "scrolled": true
   },
   "outputs": [
    {
     "data": {
      "text/plain": [
       "(array([5, 5, 5, 5, 8, 8, 5, 5, 5, 6, 6, 7, 5, 5, 5, 5, 5, 5, 5, 6, 5, 6]),\n",
       " [67.298,\n",
       "  10.332,\n",
       "  1.877,\n",
       "  10.442,\n",
       "  41.694,\n",
       "  38.152,\n",
       "  6.247,\n",
       "  32.896,\n",
       "  11.789,\n",
       "  10.51,\n",
       "  4.067,\n",
       "  12.344,\n",
       "  9.378,\n",
       "  4.574,\n",
       "  2.113,\n",
       "  2.6,\n",
       "  2.391,\n",
       "  46.153,\n",
       "  12.243,\n",
       "  13.896,\n",
       "  2.084,\n",
       "  3.855],\n",
       " [23.163,\n",
       "  -1,\n",
       "  16.459,\n",
       "  0.135,\n",
       "  21.678,\n",
       "  0.153,\n",
       "  12.238,\n",
       "  24.046,\n",
       "  0.13,\n",
       "  50.582,\n",
       "  -1,\n",
       "  0.373,\n",
       "  2.91,\n",
       "  -1,\n",
       "  8.764,\n",
       "  546.56,\n",
       "  20.849,\n",
       "  95.426,\n",
       "  0.18,\n",
       "  -1,\n",
       "  0.172])"
      ]
     },
     "execution_count": 177,
     "metadata": {},
     "output_type": "execute_result"
    }
   ],
   "source": [
    "data_process(a)"
   ]
  },
  {
   "cell_type": "code",
   "execution_count": 178,
   "metadata": {
    "ExecuteTime": {
     "end_time": "2019-10-10T15:30:24.324094Z",
     "start_time": "2019-10-10T15:30:24.312789Z"
    }
   },
   "outputs": [],
   "source": [
    "def data_process(sequence_for_a_single_application):\n",
    "    sequence_for_a_single_application.sort(key=lambda x : x['petime'])\n",
    "    \n",
    "    page_sequence = [x['pname'] for x in sequence_for_a_single_application]\n",
    "    \n",
    "    pstart = [x['pstime'] for x in sequence_for_a_single_application]\n",
    "    \n",
    "    pend = ([x['petime'] for x in sequence_for_a_single_application])\n",
    "    \n",
    "    page_stay_time = [(y-x)/1000 for x,y in zip(pstart, pend)]\n",
    "    \n",
    "    page_lagg_time = [(x-y)/1000 if (x-y)//1000<600 else -1 for x,y in zip(pstart[1:], pend[:-1])] \n",
    "    # calculate the duration between the end of last action and the start of current action\n",
    "    # if this lag is more than 10 minutes we ignore the quantitative meaning of this value\n",
    "    \n",
    "    page_sequence = le.transform(page_sequence)\n",
    "    \n",
    "    return page_sequence, page_stay_time, page_lagg_time"
   ]
  },
  {
   "cell_type": "code",
   "execution_count": 200,
   "metadata": {
    "ExecuteTime": {
     "end_time": "2019-10-10T15:35:09.174393Z",
     "start_time": "2019-10-10T15:35:09.158673Z"
    }
   },
   "outputs": [],
   "source": [
    "# data generator body\n",
    "\n",
    "def file_generator(data):\n",
    "    '''\n",
    "    create a generator for files\n",
    "    '''\n",
    "    i = -1\n",
    "    while True:\n",
    "        i+=1\n",
    "        if i<len(data):\n",
    "            yield list(set(data[i].keys()))\n",
    "        else:\n",
    "            i=-1\n",
    "\n",
    "def data_generator(original_data, batch_size = 32):\n",
    "    if type(original_data)!=list:\n",
    "        file_gen = file_generator([original_data])\n",
    "    else:\n",
    "        file_gen = file_generator(original_data)\n",
    "    data_keys = next(file_gen)\n",
    "    while True:\n",
    "        total_batch = len(data_keys)//batch_size\n",
    "        if total_batch < len(data_keys)/batch_size:\n",
    "            total_batch+=1\n",
    "        n_batch = 0\n",
    "        while n_batch<total_batch:\n",
    "            b_sequence = []\n",
    "            p_staytime_sequence = []\n",
    "            p_lag_sequence = []\n",
    "            start = n_batch*batch_size\n",
    "            end = (n_batch+1)*batch_size\n",
    "            for keys in data_keys[start:end]:\n",
    "                page_sequence, page_stay_time, page_lagg_time = data_process(original_data[keys])\n",
    "                b_sequence.append(page_sequence)\n",
    "                p_staytime_sequence.append(page_stay_time)\n",
    "                p_lag_sequence.append(page_lagg_time)\n",
    "            n_batch +=1\n",
    "            yield b_sequence,p_staytime_sequence,p_lag_sequence\n",
    "        data_keys = next(file_gen)"
   ]
  },
  {
   "cell_type": "code",
   "execution_count": 201,
   "metadata": {
    "ExecuteTime": {
     "end_time": "2019-10-10T15:35:09.670475Z",
     "start_time": "2019-10-10T15:35:09.658867Z"
    }
   },
   "outputs": [],
   "source": [
    "a = data_generator(sequential_behavior, batch_size = 1) # iteratively read and process data from raw sequential_behavior\n",
    "# batch_size controls how much data it process each iteration"
   ]
  },
  {
   "cell_type": "code",
   "execution_count": 202,
   "metadata": {
    "ExecuteTime": {
     "end_time": "2019-10-10T15:35:09.975400Z",
     "start_time": "2019-10-10T15:35:09.925905Z"
    },
    "scrolled": false
   },
   "outputs": [
    {
     "data": {
      "text/plain": [
       "([array([10,  5,  4,  4,  4,  4,  4,  4,  4,  4,  5,  4,  4,  4,  5,  5,  4,\n",
       "          5,  4,  4,  4,  2,  9,  9,  9,  9,  9,  9,  9,  3,  3,  3,  3,  3,\n",
       "          3,  3,  5,  3,  3,  3,  3,  8,  5,  5,  5,  5,  5,  5,  1,  1,  5,\n",
       "          6,  5,  5,  5,  5])],\n",
       " [[29.671,\n",
       "   10.822,\n",
       "   34.145,\n",
       "   0.835,\n",
       "   1.639,\n",
       "   4.874,\n",
       "   7.986,\n",
       "   6.582,\n",
       "   6.566,\n",
       "   1.909,\n",
       "   2.179,\n",
       "   2.112,\n",
       "   4.68,\n",
       "   13.065,\n",
       "   6.679,\n",
       "   1.942,\n",
       "   5.177,\n",
       "   2.413,\n",
       "   6.79,\n",
       "   4.339,\n",
       "   1.583,\n",
       "   18.637,\n",
       "   6.894,\n",
       "   1.052,\n",
       "   1.05,\n",
       "   1.582,\n",
       "   1.091,\n",
       "   1.319,\n",
       "   2.192,\n",
       "   0.056,\n",
       "   5.667,\n",
       "   2.181,\n",
       "   5.288,\n",
       "   2.636,\n",
       "   1.778,\n",
       "   5.393,\n",
       "   2.001,\n",
       "   0.154,\n",
       "   4.81,\n",
       "   4.42,\n",
       "   1.663,\n",
       "   17.377,\n",
       "   10.796,\n",
       "   2.136,\n",
       "   5.758,\n",
       "   4.335,\n",
       "   6.326,\n",
       "   3.216,\n",
       "   23.61,\n",
       "   0.308,\n",
       "   3.809,\n",
       "   12.566,\n",
       "   15.64,\n",
       "   3.02,\n",
       "   5.198,\n",
       "   14.566]],\n",
       " [[0.647,\n",
       "   2.252,\n",
       "   23.021,\n",
       "   0.537,\n",
       "   13.204,\n",
       "   14.492,\n",
       "   3.224,\n",
       "   15.113,\n",
       "   1.58,\n",
       "   0.099,\n",
       "   7.015,\n",
       "   18.934,\n",
       "   7.619,\n",
       "   20.357,\n",
       "   33.488,\n",
       "   1.627,\n",
       "   0.067,\n",
       "   1.098,\n",
       "   17.105,\n",
       "   3.223,\n",
       "   3.898,\n",
       "   0.137,\n",
       "   1.689,\n",
       "   1.388,\n",
       "   10.301,\n",
       "   1.013,\n",
       "   1.847,\n",
       "   8.711,\n",
       "   0.116,\n",
       "   1.736,\n",
       "   7.919,\n",
       "   5.316,\n",
       "   9.057,\n",
       "   22.026,\n",
       "   34.134,\n",
       "   97.644,\n",
       "   0.252,\n",
       "   2.044,\n",
       "   5.104,\n",
       "   9.616,\n",
       "   26.852,\n",
       "   0.214,\n",
       "   1.535,\n",
       "   15.224,\n",
       "   124.206,\n",
       "   16.76,\n",
       "   49.61,\n",
       "   0.185,\n",
       "   16.074,\n",
       "   0.069,\n",
       "   0.122,\n",
       "   0.08,\n",
       "   9.355,\n",
       "   7.792,\n",
       "   -1]])"
      ]
     },
     "execution_count": 202,
     "metadata": {},
     "output_type": "execute_result"
    }
   ],
   "source": [
    "next(a) # these three vectors are what we are studying previously\n",
    "\n",
    "# first, the sequence of all the page\n",
    "# second, the sequence of all the page stay time\n",
    "# third, the sequence of all the page transition time"
   ]
  },
  {
   "cell_type": "code",
   "execution_count": null,
   "metadata": {},
   "outputs": [],
   "source": []
  }
 ],
 "metadata": {
  "kernelspec": {
   "display_name": "Python 3",
   "language": "python",
   "name": "python3"
  },
  "language_info": {
   "codemirror_mode": {
    "name": "ipython",
    "version": 3
   },
   "file_extension": ".py",
   "mimetype": "text/x-python",
   "name": "python",
   "nbconvert_exporter": "python",
   "pygments_lexer": "ipython3",
   "version": "3.6.7"
  },
  "toc": {
   "base_numbering": 1,
   "nav_menu": {},
   "number_sections": true,
   "sideBar": true,
   "skip_h1_title": false,
   "title_cell": "Table of Contents",
   "title_sidebar": "Contents",
   "toc_cell": false,
   "toc_position": {},
   "toc_section_display": true,
   "toc_window_display": false
  }
 },
 "nbformat": 4,
 "nbformat_minor": 2
}
